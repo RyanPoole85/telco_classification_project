{
 "cells": [
  {
   "cell_type": "code",
   "execution_count": 1,
   "id": "77726f1c",
   "metadata": {},
   "outputs": [],
   "source": [
    "# standard data science imports\n",
    "import pandas as pd\n",
    "import numpy as np\n",
    "\n",
    "# visualization imports\n",
    "import matplotlib.pyplot as plt\n",
    "import seaborn as sns\n",
    "\n",
    "# data prep imports\n",
    "from sklearn.model_selection import train_test_split\n",
    "import sklearn.preprocessing\n",
    "\n",
    "# stats import\n",
    "from scipy import stats\n",
    "\n",
    "# modeling imports\n",
    "from sklearn.tree import DecisionTreeClassifier\n",
    "from sklearn.ensemble import RandomForestClassifier\n",
    "from sklearn.neighbors import KNeighborsClassifier\n",
    "from sklearn.linear_model import LogisticRegression\n",
    "\n",
    "# model evaluation imports\n",
    "from sklearn.metrics import \\\n",
    "accuracy_score,\\\n",
    "recall_score,\\\n",
    "precision_score,\\\n",
    "confusion_matrix,\\\n",
    "classification_report\n",
    "\n",
    "# ignore warning import\n",
    "import warnings\n",
    "warnings.filterwarnings(\"ignore\")\n",
    "\n",
    "# custom modules\n",
    "import os\n",
    "import env\n",
    "import acquire_telco as a\n",
    "import prepare as p"
   ]
  },
  {
   "cell_type": "code",
   "execution_count": 2,
   "id": "7508747d",
   "metadata": {},
   "outputs": [
    {
     "name": "stdout",
     "output_type": "stream",
     "text": [
      "this file exists, reading csv\n"
     ]
    }
   ],
   "source": [
    "df = a.get_telco_data()"
   ]
  },
  {
   "cell_type": "code",
   "execution_count": 3,
   "id": "3d749fa4",
   "metadata": {},
   "outputs": [
    {
     "name": "stdout",
     "output_type": "stream",
     "text": [
      "<class 'pandas.core.frame.DataFrame'>\n",
      "Index: 7043 entries, 0 to 7042\n",
      "Data columns (total 24 columns):\n",
      " #   Column                    Non-Null Count  Dtype  \n",
      "---  ------                    --------------  -----  \n",
      " 0   payment_type_id           7043 non-null   int64  \n",
      " 1   internet_service_type_id  7043 non-null   int64  \n",
      " 2   contract_type_id          7043 non-null   int64  \n",
      " 3   customer_id               7043 non-null   object \n",
      " 4   gender                    7043 non-null   object \n",
      " 5   senior_citizen            7043 non-null   int64  \n",
      " 6   partner                   7043 non-null   object \n",
      " 7   dependents                7043 non-null   object \n",
      " 8   tenure                    7043 non-null   int64  \n",
      " 9   phone_service             7043 non-null   object \n",
      " 10  multiple_lines            7043 non-null   object \n",
      " 11  online_security           7043 non-null   object \n",
      " 12  online_backup             7043 non-null   object \n",
      " 13  device_protection         7043 non-null   object \n",
      " 14  tech_support              7043 non-null   object \n",
      " 15  streaming_tv              7043 non-null   object \n",
      " 16  streaming_movies          7043 non-null   object \n",
      " 17  paperless_billing         7043 non-null   object \n",
      " 18  monthly_charges           7043 non-null   float64\n",
      " 19  total_charges             7043 non-null   object \n",
      " 20  churn                     7043 non-null   object \n",
      " 21  contract_type             7043 non-null   object \n",
      " 22  internet_service_type     5517 non-null   object \n",
      " 23  payment_type              7043 non-null   object \n",
      "dtypes: float64(1), int64(5), object(18)\n",
      "memory usage: 1.3+ MB\n"
     ]
    }
   ],
   "source": [
    "df.info()"
   ]
  },
  {
   "cell_type": "code",
   "execution_count": 240,
   "id": "6fde0fce",
   "metadata": {},
   "outputs": [
    {
     "data": {
      "text/plain": [
       "64.76169246059918"
      ]
     },
     "execution_count": 240,
     "metadata": {},
     "output_type": "execute_result"
    }
   ],
   "source": [
    "df.monthly_charges.mean()"
   ]
  },
  {
   "cell_type": "code",
   "execution_count": 23,
   "id": "2bdc8818",
   "metadata": {},
   "outputs": [
    {
     "data": {
      "text/plain": [
       "66.39849032258064"
      ]
     },
     "execution_count": 23,
     "metadata": {},
     "output_type": "execute_result"
    }
   ],
   "source": [
    "list[list.contract_type == 'Month-to-month'].monthly_charges.mean()"
   ]
  },
  {
   "cell_type": "code",
   "execution_count": 24,
   "id": "c5e4f849",
   "metadata": {},
   "outputs": [
    {
     "data": {
      "text/plain": [
       "60.770412979351036"
      ]
     },
     "execution_count": 24,
     "metadata": {},
     "output_type": "execute_result"
    }
   ],
   "source": [
    "list[list.contract_type == 'Two year'].monthly_charges.mean()"
   ]
  },
  {
   "cell_type": "code",
   "execution_count": 25,
   "id": "5f2e959e",
   "metadata": {},
   "outputs": [
    {
     "data": {
      "text/plain": [
       "65.04860828241684"
      ]
     },
     "execution_count": 25,
     "metadata": {},
     "output_type": "execute_result"
    }
   ],
   "source": [
    "list[list.contract_type == 'One year'].monthly_charges.mean()"
   ]
  },
  {
   "cell_type": "code",
   "execution_count": 31,
   "id": "e300e732",
   "metadata": {},
   "outputs": [],
   "source": [
    "monthly_contract = df[df.contract_type == 'Month-to-month']"
   ]
  },
  {
   "cell_type": "code",
   "execution_count": 138,
   "id": "5b8bcc7e",
   "metadata": {},
   "outputs": [
    {
     "data": {
      "text/plain": [
       "0.2349850915802925"
      ]
     },
     "execution_count": 138,
     "metadata": {},
     "output_type": "execute_result"
    }
   ],
   "source": [
    "len(monthly_churned)/len(df)"
   ]
  },
  {
   "cell_type": "code",
   "execution_count": 236,
   "id": "1fcf1980",
   "metadata": {},
   "outputs": [
    {
     "data": {
      "text/plain": [
       "contract_type\n",
       "Month-to-month    0.550192\n",
       "Two year          0.240664\n",
       "One year          0.209144\n",
       "Name: proportion, dtype: float64"
      ]
     },
     "execution_count": 236,
     "metadata": {},
     "output_type": "execute_result"
    }
   ],
   "source": [
    "df.contract_type.value_counts(normalize=True)"
   ]
  },
  {
   "cell_type": "code",
   "execution_count": 137,
   "id": "1b3ecf08",
   "metadata": {},
   "outputs": [],
   "source": [
    "monthly_churned = monthly_contract[monthly_contract.churn == 'Yes']"
   ]
  },
  {
   "cell_type": "code",
   "execution_count": 35,
   "id": "4c888513",
   "metadata": {},
   "outputs": [
    {
     "data": {
      "text/plain": [
       "14.016918429003022"
      ]
     },
     "execution_count": 35,
     "metadata": {},
     "output_type": "execute_result"
    }
   ],
   "source": [
    "#average tenure for a month to month contract customer who churned\n",
    "\n",
    "monthly_contract[monthly_contract.churn == 'Yes'].tenure.mean()"
   ]
  },
  {
   "cell_type": "code",
   "execution_count": 40,
   "id": "a181a86f",
   "metadata": {},
   "outputs": [],
   "source": [
    "one_year_contract = df[df.contract_type == 'One year']"
   ]
  },
  {
   "cell_type": "code",
   "execution_count": 133,
   "id": "fdc40e7b",
   "metadata": {},
   "outputs": [],
   "source": [
    "one_year_churn = one_year_contract[one_year_contract.churn == 'Yes'].count()"
   ]
  },
  {
   "cell_type": "code",
   "execution_count": 151,
   "id": "3fc9ad66",
   "metadata": {},
   "outputs": [
    {
     "data": {
      "text/plain": [
       "2       Month-to-month\n",
       "3       Month-to-month\n",
       "4       Month-to-month\n",
       "18            One year\n",
       "19      Month-to-month\n",
       "             ...      \n",
       "7020    Month-to-month\n",
       "7023    Month-to-month\n",
       "7036    Month-to-month\n",
       "7037    Month-to-month\n",
       "7039    Month-to-month\n",
       "Name: contract_type, Length: 1869, dtype: object"
      ]
     },
     "execution_count": 151,
     "metadata": {},
     "output_type": "execute_result"
    }
   ],
   "source": [
    "churned"
   ]
  },
  {
   "cell_type": "code",
   "execution_count": 142,
   "id": "3fb3a114",
   "metadata": {},
   "outputs": [],
   "source": [
    "churned = df.contract_type[df.churn == 'Yes']"
   ]
  },
  {
   "cell_type": "code",
   "execution_count": 153,
   "id": "df0bce58",
   "metadata": {},
   "outputs": [],
   "source": [
    "m2m_churned = churned[df.contract_type == 'Month-to-month']"
   ]
  },
  {
   "cell_type": "code",
   "execution_count": 154,
   "id": "81c308bc",
   "metadata": {},
   "outputs": [],
   "source": [
    "one_year_churned = churned[df.contract_type == 'One year']"
   ]
  },
  {
   "cell_type": "code",
   "execution_count": 155,
   "id": "22b03b2f",
   "metadata": {},
   "outputs": [],
   "source": [
    "two_year_churned = churned[df.contract_type == 'Two year']"
   ]
  },
  {
   "cell_type": "code",
   "execution_count": 148,
   "id": "ab0dba88",
   "metadata": {},
   "outputs": [],
   "source": [
    "contract_type_churned_percentage = df.contract_type[df.churn == 'Yes'].value_counts(normalize=True)"
   ]
  },
  {
   "cell_type": "code",
   "execution_count": 214,
   "id": "d47c1c0b",
   "metadata": {},
   "outputs": [
    {
     "data": {
      "text/plain": [
       "contract_type\n",
       "Month-to-month    0.885500\n",
       "One year          0.088818\n",
       "Two year          0.025682\n",
       "Name: proportion, dtype: float64"
      ]
     },
     "execution_count": 214,
     "metadata": {},
     "output_type": "execute_result"
    }
   ],
   "source": [
    "contract_type_churned_percentage"
   ]
  },
  {
   "cell_type": "code",
   "execution_count": 184,
   "id": "7e62b9cd",
   "metadata": {},
   "outputs": [],
   "source": [
    "monthly_churned_percent = len(m2m_churned)/len(monthly_contract)"
   ]
  },
  {
   "cell_type": "code",
   "execution_count": 182,
   "id": "ca22aa15",
   "metadata": {},
   "outputs": [],
   "source": [
    "one_year_churned_percent = len(one_year_churned)/len(one_year_contract)"
   ]
  },
  {
   "cell_type": "code",
   "execution_count": 183,
   "id": "a22ef0cc",
   "metadata": {},
   "outputs": [
    {
     "data": {
      "text/plain": [
       "0.11269517990495587"
      ]
     },
     "execution_count": 183,
     "metadata": {},
     "output_type": "execute_result"
    }
   ],
   "source": [
    "one_year_churned_percent"
   ]
  },
  {
   "cell_type": "code",
   "execution_count": 180,
   "id": "32b03d27",
   "metadata": {},
   "outputs": [],
   "source": [
    "two_year_churned_percent = len(two_year_churned)/len(two_year_contract)"
   ]
  },
  {
   "cell_type": "code",
   "execution_count": 181,
   "id": "3bab491d",
   "metadata": {},
   "outputs": [
    {
     "data": {
      "text/plain": [
       "0.02831858407079646"
      ]
     },
     "execution_count": 181,
     "metadata": {},
     "output_type": "execute_result"
    }
   ],
   "source": [
    "two_year_churned_percent"
   ]
  },
  {
   "cell_type": "code",
   "execution_count": 127,
   "id": "b6e4cb92",
   "metadata": {},
   "outputs": [
    {
     "data": {
      "text/plain": [
       "44.963855421686745"
      ]
     },
     "execution_count": 127,
     "metadata": {},
     "output_type": "execute_result"
    }
   ],
   "source": [
    "one_year_contract[one_year_contract.churn == 'Yes'].tenure.mean()"
   ]
  },
  {
   "cell_type": "code",
   "execution_count": 212,
   "id": "ab80f0a4",
   "metadata": {},
   "outputs": [],
   "source": [
    "one_and_two_year_contract = df.contract_type[df.contract_type != 'Month-to-month']"
   ]
  },
  {
   "cell_type": "code",
   "execution_count": 220,
   "id": "60d3ce4e",
   "metadata": {},
   "outputs": [],
   "source": [
    "one_and_two_year_contract_percent = len(one_and_two_year_contract_churned)/len(one_and_two_year_contract)"
   ]
  },
  {
   "cell_type": "code",
   "execution_count": 217,
   "id": "214c1364",
   "metadata": {},
   "outputs": [],
   "source": [
    "one_and_two_year_contract_churned= one_and_two_year_contract[df.churn == 'Yes']"
   ]
  },
  {
   "cell_type": "code",
   "execution_count": 225,
   "id": "9341c901",
   "metadata": {},
   "outputs": [],
   "source": [
    "long_contract_c_w_ts = one_and_two_year_contract_churned[df.tech_support == 'Yes']"
   ]
  },
  {
   "cell_type": "code",
   "execution_count": 226,
   "id": "99828093",
   "metadata": {},
   "outputs": [],
   "source": [
    "long_contract_w_ts = one_and_two_year_contract[df.tech_support == 'Yes']"
   ]
  },
  {
   "cell_type": "code",
   "execution_count": 228,
   "id": "ab1cf200",
   "metadata": {},
   "outputs": [],
   "source": [
    "long_contract_c_w_ts_percent = len(long_contract_c_w_ts)/len(long_contract_w_ts)"
   ]
  },
  {
   "cell_type": "code",
   "execution_count": 229,
   "id": "2ea13a51",
   "metadata": {},
   "outputs": [
    {
     "data": {
      "text/plain": [
       "0.07574654042243263"
      ]
     },
     "execution_count": 229,
     "metadata": {},
     "output_type": "execute_result"
    }
   ],
   "source": [
    "long_contract_c_w_ts_percent"
   ]
  },
  {
   "cell_type": "code",
   "execution_count": 46,
   "id": "e07fa9c3",
   "metadata": {},
   "outputs": [],
   "source": [
    "two_year_contract = df[df.contract_type == 'Two year']"
   ]
  },
  {
   "cell_type": "code",
   "execution_count": 239,
   "id": "9a43b25a",
   "metadata": {},
   "outputs": [
    {
     "data": {
      "text/plain": [
       "61.270833333333336"
      ]
     },
     "execution_count": 239,
     "metadata": {},
     "output_type": "execute_result"
    }
   ],
   "source": [
    "two_year_churn = two_year_contract[two_year_contract.churn == 'Yes'].tenure.mean()\n",
    "two_year_churn"
   ]
  },
  {
   "cell_type": "code",
   "execution_count": 204,
   "id": "a1829126",
   "metadata": {},
   "outputs": [
    {
     "data": {
      "image/png": "[encoded data removed]",
      "text/plain": [
       "<Figure size 640x480 with 1 Axes>"
      ]
     },
     "metadata": {},
     "output_type": "display_data"
    }
   ],
   "source": [
    "plt.style.use('dark_background')\n",
    "bar_width = 0.6  # Increase the width of the bars\n",
    "plt.bar([0, 1, 2], [monthly_churned_percent,one_year_churned_percent, two_year_churned_percent], width=bar_width, label='Churn Rate', color=('red','cyan','green'))\n",
    "plt.xticks([0, 1, 2], ['Month to Month', 'One Year', 'Two Year'])\n",
    "plt.title('Churn Rates by Contract Type', fontsize=18)\n",
    "plt.ylabel('Churn Rate')\n",
    "plt.ylim(0, 0.5)\n",
    "plt.text(0, 0.45, f'Month to Month', ha='center', va='center', fontsize=13, color='white')\n",
    "plt.text(0, 0.25, f'{monthly_churned_percent:.0%}', ha='center', va='center', fontsize=20, color='white')\n",
    "\n",
    "# Add text to the second column of the plot\n",
    "plt.text(1, 0.20, f'One Year', ha='center', va='center', fontsize=13, color='white')\n",
    "plt.text(1, 0.15, f'{one_year_churned_percent:.0%}', ha='center', va='center', fontsize=20, color='white')\n",
    "\n",
    "plt.text(2, 0.10, f' Two Year', ha='center', va='center', fontsize=13, color='white')\n",
    "plt.text(2, 0.05, f'{two_year_churned_percent:.0%}', ha='center', va='center', fontsize=20, color='white')\n",
    "\n",
    "plt.show()"
   ]
  },
  {
   "cell_type": "markdown",
   "id": "3af5fa70",
   "metadata": {},
   "source": [
    "Average tenure by contract type"
   ]
  },
  {
   "cell_type": "code",
   "execution_count": 44,
   "id": "286f5676",
   "metadata": {
    "scrolled": true
   },
   "outputs": [
    {
     "data": {
      "text/plain": [
       "18.036645161290323"
      ]
     },
     "execution_count": 44,
     "metadata": {},
     "output_type": "execute_result"
    }
   ],
   "source": [
    "monthly_contract.tenure.mean()"
   ]
  },
  {
   "cell_type": "code",
   "execution_count": 43,
   "id": "49e0a84e",
   "metadata": {
    "scrolled": true
   },
   "outputs": [
    {
     "data": {
      "text/plain": [
       "42.044806517311606"
      ]
     },
     "execution_count": 43,
     "metadata": {},
     "output_type": "execute_result"
    }
   ],
   "source": [
    "one_year_contract.tenure.mean()"
   ]
  },
  {
   "cell_type": "code",
   "execution_count": 47,
   "id": "37516646",
   "metadata": {
    "scrolled": true
   },
   "outputs": [
    {
     "data": {
      "text/plain": [
       "56.73510324483776"
      ]
     },
     "execution_count": 47,
     "metadata": {},
     "output_type": "execute_result"
    }
   ],
   "source": [
    "two_year_contract.tenure.mean()"
   ]
  },
  {
   "cell_type": "markdown",
   "id": "50b14e29",
   "metadata": {},
   "source": [
    "Average monthly charges by contract type"
   ]
  },
  {
   "cell_type": "code",
   "execution_count": 48,
   "id": "457d248e",
   "metadata": {},
   "outputs": [
    {
     "data": {
      "text/plain": [
       "66.39849032258064"
      ]
     },
     "execution_count": 48,
     "metadata": {},
     "output_type": "execute_result"
    }
   ],
   "source": [
    "monthly_contract.monthly_charges.mean()"
   ]
  },
  {
   "cell_type": "code",
   "execution_count": 49,
   "id": "90092730",
   "metadata": {},
   "outputs": [
    {
     "data": {
      "text/plain": [
       "65.04860828241684"
      ]
     },
     "execution_count": 49,
     "metadata": {},
     "output_type": "execute_result"
    }
   ],
   "source": [
    "one_year_contract.monthly_charges.mean()"
   ]
  },
  {
   "cell_type": "code",
   "execution_count": 50,
   "id": "f9ed4963",
   "metadata": {},
   "outputs": [
    {
     "data": {
      "text/plain": [
       "60.770412979351036"
      ]
     },
     "execution_count": 50,
     "metadata": {},
     "output_type": "execute_result"
    }
   ],
   "source": [
    "two_year_contract.monthly_charges.mean()"
   ]
  },
  {
   "cell_type": "markdown",
   "id": "48f829a9",
   "metadata": {},
   "source": [
    "Overall average monthly charges"
   ]
  },
  {
   "cell_type": "code",
   "execution_count": 51,
   "id": "437500d6",
   "metadata": {},
   "outputs": [
    {
     "data": {
      "text/plain": [
       "64.76169246059918"
      ]
     },
     "execution_count": 51,
     "metadata": {},
     "output_type": "execute_result"
    }
   ],
   "source": [
    "df.monthly_charges.mean()"
   ]
  },
  {
   "cell_type": "markdown",
   "id": "a11f4945",
   "metadata": {},
   "source": [
    "Difference in months between 2 year and month to month contract"
   ]
  },
  {
   "cell_type": "code",
   "execution_count": 52,
   "id": "c0decb9d",
   "metadata": {},
   "outputs": [
    {
     "data": {
      "text/plain": [
       "38.698458083547436"
      ]
     },
     "execution_count": 52,
     "metadata": {},
     "output_type": "execute_result"
    }
   ],
   "source": [
    "two_year_contract.tenure.mean() - monthly_contract.tenure.mean()"
   ]
  },
  {
   "cell_type": "markdown",
   "id": "c8b9e7ef",
   "metadata": {},
   "source": [
    "Average amount of money made per customer for 2 year contract over month to month\n"
   ]
  },
  {
   "cell_type": "code",
   "execution_count": 53,
   "id": "77d94781",
   "metadata": {},
   "outputs": [
    {
     "data": {
      "text/plain": [
       "2506.1776411060873"
      ]
     },
     "execution_count": 53,
     "metadata": {},
     "output_type": "execute_result"
    }
   ],
   "source": [
    "(df.monthly_charges.mean()) * (two_year_contract.tenure.mean() - monthly_contract.tenure.mean())"
   ]
  },
  {
   "cell_type": "markdown",
   "id": "36d6cc56",
   "metadata": {},
   "source": [
    "Average amount of money made per customer for 1 year contract over month to month\n",
    "\n"
   ]
  },
  {
   "cell_type": "code",
   "execution_count": 54,
   "id": "6081e909",
   "metadata": {},
   "outputs": [
    {
     "data": {
      "text/plain": [
       "1554.809162283092"
      ]
     },
     "execution_count": 54,
     "metadata": {},
     "output_type": "execute_result"
    }
   ],
   "source": [
    "(df.monthly_charges.mean()) * (one_year_contract.tenure.mean() - monthly_contract.tenure.mean())"
   ]
  },
  {
   "cell_type": "code",
   "execution_count": 60,
   "id": "fcca0a09",
   "metadata": {},
   "outputs": [
    {
     "data": {
      "text/plain": [
       "contract_type\n",
       "Month-to-month    1655\n",
       "One year           166\n",
       "Two year            48\n",
       "Name: count, dtype: int64"
      ]
     },
     "execution_count": 60,
     "metadata": {},
     "output_type": "execute_result"
    }
   ],
   "source": [
    "df.contract_type[df.churn == 'Yes'].value_counts()"
   ]
  },
  {
   "cell_type": "markdown",
   "id": "63ec562e",
   "metadata": {},
   "source": [
    "possible earnings if month to month switched to one year or two year contract\n",
    "(month to month who churned - one year who churned) x (average earnings based on tenure)"
   ]
  },
  {
   "cell_type": "code",
   "execution_count": 61,
   "id": "6354110a",
   "metadata": {},
   "outputs": [
    {
     "data": {
      "text/plain": [
       "2315395"
      ]
     },
     "execution_count": 61,
     "metadata": {},
     "output_type": "execute_result"
    }
   ],
   "source": [
    "#one year\n",
    "(1655 - 166) * 1555"
   ]
  },
  {
   "cell_type": "code",
   "execution_count": 62,
   "id": "02311eff",
   "metadata": {},
   "outputs": [
    {
     "data": {
      "text/plain": [
       "4027142"
      ]
     },
     "execution_count": 62,
     "metadata": {},
     "output_type": "execute_result"
    }
   ],
   "source": [
    "#two year\n",
    "(1655 - 48) * 2506"
   ]
  },
  {
   "cell_type": "code",
   "execution_count": null,
   "id": "b0402ec3",
   "metadata": {},
   "outputs": [],
   "source": []
  },
  {
   "cell_type": "code",
   "execution_count": 63,
   "id": "2e2e0e5d",
   "metadata": {},
   "outputs": [
    {
     "name": "stdout",
     "output_type": "stream",
     "text": [
      "<class 'pandas.core.frame.DataFrame'>\n",
      "Index: 7043 entries, 0 to 7042\n",
      "Data columns (total 24 columns):\n",
      " #   Column                    Non-Null Count  Dtype  \n",
      "---  ------                    --------------  -----  \n",
      " 0   payment_type_id           7043 non-null   int64  \n",
      " 1   internet_service_type_id  7043 non-null   int64  \n",
      " 2   contract_type_id          7043 non-null   int64  \n",
      " 3   customer_id               7043 non-null   object \n",
      " 4   gender                    7043 non-null   object \n",
      " 5   senior_citizen            7043 non-null   int64  \n",
      " 6   partner                   7043 non-null   object \n",
      " 7   dependents                7043 non-null   object \n",
      " 8   tenure                    7043 non-null   int64  \n",
      " 9   phone_service             7043 non-null   object \n",
      " 10  multiple_lines            7043 non-null   object \n",
      " 11  online_security           7043 non-null   object \n",
      " 12  online_backup             7043 non-null   object \n",
      " 13  device_protection         7043 non-null   object \n",
      " 14  tech_support              7043 non-null   object \n",
      " 15  streaming_tv              7043 non-null   object \n",
      " 16  streaming_movies          7043 non-null   object \n",
      " 17  paperless_billing         7043 non-null   object \n",
      " 18  monthly_charges           7043 non-null   float64\n",
      " 19  total_charges             7043 non-null   object \n",
      " 20  churn                     7043 non-null   object \n",
      " 21  contract_type             7043 non-null   object \n",
      " 22  internet_service_type     5517 non-null   object \n",
      " 23  payment_type              7043 non-null   object \n",
      "dtypes: float64(1), int64(5), object(18)\n",
      "memory usage: 1.3+ MB\n"
     ]
    }
   ],
   "source": [
    "df.info()"
   ]
  },
  {
   "cell_type": "markdown",
   "id": "dccf1ea0",
   "metadata": {},
   "source": [
    "average cost with/without tech support"
   ]
  },
  {
   "cell_type": "code",
   "execution_count": 66,
   "id": "9b21cfab",
   "metadata": {},
   "outputs": [
    {
     "data": {
      "text/plain": [
       "80.68013698630138"
      ]
     },
     "execution_count": 66,
     "metadata": {},
     "output_type": "execute_result"
    }
   ],
   "source": [
    "#average monthly charges with tech support\n",
    "df.monthly_charges[df.tech_support == 'Yes'].mean()"
   ]
  },
  {
   "cell_type": "code",
   "execution_count": 67,
   "id": "788f95d5",
   "metadata": {},
   "outputs": [
    {
     "data": {
      "text/plain": [
       "74.5866829830118"
      ]
     },
     "execution_count": 67,
     "metadata": {},
     "output_type": "execute_result"
    }
   ],
   "source": [
    "df.monthly_charges[df.tech_support == 'No'].mean()"
   ]
  },
  {
   "cell_type": "markdown",
   "id": "901836bc",
   "metadata": {},
   "source": [
    "average cost with/without online security"
   ]
  },
  {
   "cell_type": "code",
   "execution_count": 68,
   "id": "637f2e98",
   "metadata": {
    "scrolled": true
   },
   "outputs": [
    {
     "data": {
      "text/plain": [
       "78.83873204556711"
      ]
     },
     "execution_count": 68,
     "metadata": {},
     "output_type": "execute_result"
    }
   ],
   "source": [
    "df.monthly_charges[df.online_security == 'Yes'].mean()"
   ]
  },
  {
   "cell_type": "code",
   "execution_count": 69,
   "id": "6a2aa300",
   "metadata": {},
   "outputs": [
    {
     "data": {
      "text/plain": [
       "75.69306746712407"
      ]
     },
     "execution_count": 69,
     "metadata": {},
     "output_type": "execute_result"
    }
   ],
   "source": [
    "df.monthly_charges[df.online_security == 'No'].mean()"
   ]
  },
  {
   "cell_type": "markdown",
   "id": "03b2bf50",
   "metadata": {},
   "source": [
    "average cost with/without online backup"
   ]
  },
  {
   "cell_type": "code",
   "execution_count": 71,
   "id": "88197789",
   "metadata": {},
   "outputs": [
    {
     "data": {
      "text/plain": [
       "83.08159736517085"
      ]
     },
     "execution_count": 71,
     "metadata": {},
     "output_type": "execute_result"
    }
   ],
   "source": [
    "df.monthly_charges[df.online_backup == 'Yes'].mean()"
   ]
  },
  {
   "cell_type": "code",
   "execution_count": 72,
   "id": "d75f1012",
   "metadata": {},
   "outputs": [
    {
     "data": {
      "text/plain": [
       "71.93800194300518"
      ]
     },
     "execution_count": 72,
     "metadata": {},
     "output_type": "execute_result"
    }
   ],
   "source": [
    "df.monthly_charges[df.online_backup == 'No'].mean()"
   ]
  },
  {
   "cell_type": "markdown",
   "id": "3823d8fc",
   "metadata": {},
   "source": [
    "average cost with/without streaming tv"
   ]
  },
  {
   "cell_type": "code",
   "execution_count": 73,
   "id": "a995c94e",
   "metadata": {
    "scrolled": true
   },
   "outputs": [
    {
     "data": {
      "text/plain": [
       "88.73673808644256"
      ]
     },
     "execution_count": 73,
     "metadata": {},
     "output_type": "execute_result"
    }
   ],
   "source": [
    "df.monthly_charges[df.streaming_tv == 'Yes'].mean()"
   ]
  },
  {
   "cell_type": "code",
   "execution_count": 74,
   "id": "dc64fb5e",
   "metadata": {},
   "outputs": [
    {
     "data": {
      "text/plain": [
       "65.38768683274021"
      ]
     },
     "execution_count": 74,
     "metadata": {},
     "output_type": "execute_result"
    }
   ],
   "source": [
    "df.monthly_charges[df.streaming_tv == 'No'].mean()"
   ]
  },
  {
   "cell_type": "markdown",
   "id": "8a2f6738",
   "metadata": {},
   "source": [
    "average cost with/without streaming movies"
   ]
  },
  {
   "cell_type": "code",
   "execution_count": 75,
   "id": "4be69715",
   "metadata": {
    "scrolled": true
   },
   "outputs": [
    {
     "data": {
      "text/plain": [
       "88.47571376281113"
      ]
     },
     "execution_count": 75,
     "metadata": {},
     "output_type": "execute_result"
    }
   ],
   "source": [
    "df.monthly_charges[df.streaming_movies == 'Yes'].mean()"
   ]
  },
  {
   "cell_type": "code",
   "execution_count": 76,
   "id": "bd712ac2",
   "metadata": {},
   "outputs": [
    {
     "data": {
      "text/plain": [
       "65.38768683274021"
      ]
     },
     "execution_count": 76,
     "metadata": {},
     "output_type": "execute_result"
    }
   ],
   "source": [
    "df.monthly_charges[df.streaming_tv == 'No'].mean()"
   ]
  },
  {
   "cell_type": "code",
   "execution_count": 79,
   "id": "175683b3",
   "metadata": {},
   "outputs": [
    {
     "data": {
      "text/plain": [
       "0             One year\n",
       "1       Month-to-month\n",
       "2       Month-to-month\n",
       "3       Month-to-month\n",
       "4       Month-to-month\n",
       "             ...      \n",
       "7038          One year\n",
       "7039    Month-to-month\n",
       "7040    Month-to-month\n",
       "7041          Two year\n",
       "7042          Two year\n",
       "Name: contract_type, Length: 7043, dtype: object"
      ]
     },
     "execution_count": 79,
     "metadata": {},
     "output_type": "execute_result"
    }
   ],
   "source": [
    "df.contract_type"
   ]
  },
  {
   "cell_type": "code",
   "execution_count": 235,
   "id": "e75eba58",
   "metadata": {},
   "outputs": [
    {
     "data": {
      "image/png": "[encoded data removed]",
      "text/plain": [
       "<Figure size 640x480 with 1 Axes>"
      ]
     },
     "metadata": {},
     "output_type": "display_data"
    }
   ],
   "source": [
    "plt.style.use('dark_background')\n",
    "bar_width = 0.6  # Increase the width of the bars\n",
    "plt.bar([0, 1], [mtm_no_ts_churn_rate, long_contract_c_w_ts_percent], width=bar_width, label='Churn Rate', color=('red','cyan'))\n",
    "plt.xticks([0, 1], ['Month to Month w/o Tech Support','One or Two Year with Tech Support'])\n",
    "plt.title('Month to Month VS One/Two Year Churn Rates Based on Tech Support', fontsize=18)\n",
    "plt.ylabel('Churn Rate')\n",
    "plt.ylim(0, 0.6)\n",
    "plt.text(0, 0.33, f' Month to Month \\n & \\n No Tech Support', ha='center', va='center', fontsize=13, color='black')\n",
    "plt.text(0, 0.25, f'{mtm_no_ts_churn_rate:.0%}', ha='center', va='center', fontsize=20, color='black')\n",
    "\n",
    "# Add text to the second column of the plot\n",
    "plt.text(1, 0.18, f' One or Two Year \\n With Tech Support', ha='center', va='center', fontsize=13, color='white')\n",
    "plt.text(1, 0.10, f'{long_contract_c_w_ts_percent:.0%}', ha='center', va='center', fontsize=20, color='white')\n",
    "plt.show()"
   ]
  },
  {
   "cell_type": "code",
   "execution_count": 86,
   "id": "c2fcf439",
   "metadata": {},
   "outputs": [
    {
     "data": {
      "text/plain": [
       "0.503731343283582"
      ]
     },
     "execution_count": 86,
     "metadata": {},
     "output_type": "execute_result"
    }
   ],
   "source": [
    "mtm_no_ts = monthly_contract[monthly_contract['tech_support'] == 'No']\n",
    "mtm_no_ts_churn_rate = mtm_no_ts['churn'].value_counts(normalize=True)['Yes']\n",
    "mtm_no_ts_churn_rate"
   ]
  },
  {
   "cell_type": "code",
   "execution_count": 87,
   "id": "20a6fd1f",
   "metadata": {},
   "outputs": [
    {
     "data": {
      "text/plain": [
       "0.30700447093889716"
      ]
     },
     "execution_count": 87,
     "metadata": {},
     "output_type": "execute_result"
    }
   ],
   "source": [
    "mtm_with_ts = monthly_contract[monthly_contract['tech_support'] == 'Yes']\n",
    "mtm_with_ts_churn_rate = mtm_with_ts['churn'].value_counts(normalize=True)['Yes']\n",
    "mtm_with_ts_churn_rate"
   ]
  },
  {
   "cell_type": "code",
   "execution_count": 205,
   "id": "3e7d73fc",
   "metadata": {},
   "outputs": [
    {
     "data": {
      "image/png": "[encoded data removed]",
      "text/plain": [
       "<Figure size 640x480 with 1 Axes>"
      ]
     },
     "metadata": {},
     "output_type": "display_data"
    }
   ],
   "source": [
    "plt.style.use('dark_background')\n",
    "bar_width = 0.6  # Increase the width of the bars\n",
    "plt.bar([0, 1], [mtm_no_ts_churn_rate, mtm_with_ts_churn_rate], width=bar_width, label='Churn Rate', color=('red','cyan'))\n",
    "plt.xticks([0, 1], ['Month to Month w/o Tech Support', 'Month to Month with Tech Support'])\n",
    "plt.title('Month to Month Churn Rates Based on Tech Support', fontsize=18)\n",
    "plt.ylabel('Churn Rate')\n",
    "plt.ylim(0, 0.6)\n",
    "plt.text(0, 0.33, f'No Tech Support\\n', ha='center', va='center', fontsize=13, color='black')\n",
    "plt.text(0, 0.25, f'{mtm_no_ts_churn_rate:.0%}', ha='center', va='center', fontsize=20, color='black')\n",
    "\n",
    "# Add text to the second column of the plot\n",
    "plt.text(1, 0.18, f' With Tech Support', ha='center', va='center', fontsize=13, color='black')\n",
    "plt.text(1, 0.10, f'{mtm_with_ts_churn_rate:.0%}', ha='center', va='center', fontsize=20, color='black')\n",
    "plt.show()"
   ]
  }
 ],
 "metadata": {
  "kernelspec": {
   "display_name": "Python 3 (ipykernel)",
   "language": "python",
   "name": "python3"
  },
  "language_info": {
   "codemirror_mode": {
    "name": "ipython",
    "version": 3
   },
   "file_extension": ".py",
   "mimetype": "text/x-python",
   "name": "python",
   "nbconvert_exporter": "python",
   "pygments_lexer": "ipython3",
   "version": "3.11.5"
  }
 },
 "nbformat": 4,
 "nbformat_minor": 5
}
