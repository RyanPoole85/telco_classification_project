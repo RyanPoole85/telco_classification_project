{
 "cells": [
  {
   "cell_type": "markdown",
   "id": "bcc72995",
   "metadata": {},
   "source": [
    "## Telco Classification Project"
   ]
  },
  {
   "cell_type": "markdown",
   "id": "71776524",
   "metadata": {},
   "source": [
    "## Project Goals:\n",
    "\n",
    "- Find drivers for customer churn at Telco. Why are customers churning?\n",
    "- Construct a ML classification model that accurately predicts customer churn.\n",
    "- Present your process and findings to the lead data scientist.\n"
   ]
  },
  {
   "cell_type": "markdown",
   "id": "a22a11ec",
   "metadata": {},
   "source": [
    "## Questions we will be addressing throughout this project:\n",
    " - Q1: Does contract type affect whether someone churns?\n",
    " - Q2: Are high monthly charges causing customers to churn?\n",
    " - Q3: Is a customer having fiber optic internet related to a customer churning?\n",
    " - Q4: Is a customer having manual payments related to a customer churning?\n"
   ]
  },
  {
   "cell_type": "markdown",
   "id": "ca6607b8",
   "metadata": {},
   "source": [
    "**Data Dictionary**"
   ]
  },
  {
   "attachments": {},
   "cell_type": "markdown",
   "id": "743d4b4f",
   "metadata": {},
   "source": [
    "| Feature | Definition | \n",
    "| :- | :- |\n",
    "| Monthly Chaerge | Amount a customer is charged monthly |\n",
    "| Total Charges | Cumulative amount a customer has paid |\n",
    "| Gender Male | If a customer is male or female, 0 = Female, 1 = Male |\n",
    "| Has Partner | If a customer has a partner, 0 = No, 1 = Yes |\n",
    "| Has Dependents | If a customer has dependents, 0 = No, 1 = Yes |\n",
    "| Has Phone Service | If a customer has phone service, 0 = No, 1 = Yes |\n",
    "| Has Paperless Billing | If a customer has paperless billing, 0 = No, 1 = Yes |\n",
    "| Has Tech Support | If a customer has tech support, 0 = No, 1 = Yes |\n",
    "| Has Online Security | If a customer has online security, 0 = No, 1 = Yes |\n",
    "| Has Online Backup | If a customer has online backup, 0 = No, 1 = Yes |\n",
    "| Has Streaming TV | If a customer has streaming tv, 0 = No, 1 = Yes |\n",
    "| Has Streaming Movies | If a customer has streaming movies, 0 = No, 1 = Yes |\n",
    "| Has Device Protection | If a customer has device protection, 0 = No, 1 = Yes |\n",
    "| Has Dependents | If a customer has dependents, 0 = No, 1 = Yes |\n",
    "| Has Multiple Lines | If a customer has multiple lines, 0 = No, 1 = Yes |\n",
    "| Contract | Type of contract customer has, 0 = Month-to-month, 1 = One year, 2 = Two year|\n",
    "| Internet Service | Type of Internet Service customer has, 0 = No internet service, 1 = DSL, 2 = Fiber optic |\n",
    "| Has Automatic Payment | If a customer has automatic payment, 0 = No, 1 = Yes |\n",
    "| Churn (Target Variable) | If a customer has churned, False = No, True = Yes |\n",
    "---\n"
   ]
  },
  {
   "cell_type": "markdown",
   "id": "36b9dcf9",
   "metadata": {},
   "source": [
    "**Imports**"
   ]
  },
  {
   "cell_type": "code",
   "execution_count": 50,
   "id": "84813313",
   "metadata": {},
   "outputs": [],
   "source": [
    "# standard data science imports\n",
    "import pandas as pd\n",
    "import numpy as np\n",
    "\n",
    "# visualization imports\n",
    "import matplotlib.pyplot as plt\n",
    "import seaborn as sns\n",
    "\n",
    "# data prep imports\n",
    "from sklearn.model_selection import train_test_split\n",
    "\n",
    "# stats import\n",
    "from scipy import stats\n",
    "\n",
    "# modeling imports\n",
    "from sklearn.tree import DecisionTreeClassifier\n",
    "from sklearn.ensemble import RandomForestClassifier\n",
    "from sklearn.neighbors import KNeighborsClassifier\n",
    "\n",
    "# model evaluation imports\n",
    "from sklearn.metrics import \\\n",
    "accuracy_score,\\\n",
    "recall_score,\\\n",
    "precision_score,\\\n",
    "confusion_matrix,\\\n",
    "classification_report\n",
    "\n",
    "# custom modules\n",
    "import env\n",
    "import acquire_telco as a\n",
    "import prepare as p\n",
    "import explore as e\n",
    "\n",
    "# ignore warning import\n",
    "import warnings\n",
    "warnings.filterwarnings(\"ignore\")"
   ]
  },
  {
   "cell_type": "markdown",
   "id": "9b9f11ae",
   "metadata": {},
   "source": [
    "## Acquire"
   ]
  },
  {
   "cell_type": "code",
   "execution_count": 51,
   "id": "cbea906b",
   "metadata": {},
   "outputs": [
    {
     "name": "stdout",
     "output_type": "stream",
     "text": [
      "this file exists, reading csv\n"
     ]
    }
   ],
   "source": [
    "df = a.get_telco_data()"
   ]
  },
  {
   "cell_type": "markdown",
   "id": "5f3a1a7b",
   "metadata": {},
   "source": [
    ">Acquired telco data by using my get_telco_data function from my acquire.py file. This function pulls the telco_churn data from the mySQL Codeup db into a dataframe.\n",
    "\n",
    ">username, host, and password credentials are needed to pull in the data from mySQL."
   ]
  },
  {
   "cell_type": "markdown",
   "id": "7f9239b0",
   "metadata": {},
   "source": [
    "## Prepare"
   ]
  },
  {
   "cell_type": "code",
   "execution_count": 52,
   "id": "45b7d85e",
   "metadata": {},
   "outputs": [],
   "source": [
    "#splitting data function from my prepare file to split data into train, validate, and test\n",
    "df = p.prep_telco(df)\n",
    "\n",
    "# using my splitting data function from my prepare file \n",
    "train, validate, test = p.splitting_data(df, 'churn')"
   ]
  },
  {
   "cell_type": "markdown",
   "id": "16cf967a",
   "metadata": {},
   "source": [
    "**Cleaning and Splitting steps**\n",
    "- Dropped unnecessary columns\n",
    "- Filled in empty values in internet_service_type with \"No Internet Service\"\n",
    "- Verified data types were appropriate\n",
    "- Encoded and created dummy variables for my categorial variables\n",
    "- Split data into train, validate, test, with churn as my target variable"
   ]
  },
  {
   "cell_type": "markdown",
   "id": "d18b97c4",
   "metadata": {},
   "source": [
    "Looking at a portion of train data to verify cleaning and split functions did their job."
   ]
  },
  {
   "cell_type": "code",
   "execution_count": 53,
   "id": "f165ef94",
   "metadata": {},
   "outputs": [
    {
     "data": {
      "text/html": [
       "<div>\n",
       "<style scoped>\n",
       "    .dataframe tbody tr th:only-of-type {\n",
       "        vertical-align: middle;\n",
       "    }\n",
       "\n",
       "    .dataframe tbody tr th {\n",
       "        vertical-align: top;\n",
       "    }\n",
       "\n",
       "    .dataframe thead th {\n",
       "        text-align: right;\n",
       "    }\n",
       "</style>\n",
       "<table border=\"1\" class=\"dataframe\">\n",
       "  <thead>\n",
       "    <tr style=\"text-align: right;\">\n",
       "      <th></th>\n",
       "      <th>customer_id</th>\n",
       "      <th>gender</th>\n",
       "      <th>senior_citizen</th>\n",
       "      <th>partner</th>\n",
       "      <th>dependents</th>\n",
       "      <th>tenure</th>\n",
       "      <th>phone_service</th>\n",
       "      <th>multiple_lines</th>\n",
       "      <th>online_security</th>\n",
       "      <th>online_backup</th>\n",
       "      <th>...</th>\n",
       "      <th>tech_support_Yes</th>\n",
       "      <th>streaming_tv_No internet service</th>\n",
       "      <th>streaming_tv_Yes</th>\n",
       "      <th>streaming_movies_No internet service</th>\n",
       "      <th>streaming_movies_Yes</th>\n",
       "      <th>contract_type_One year</th>\n",
       "      <th>contract_type_Two year</th>\n",
       "      <th>internet_service_type_Fiber optic</th>\n",
       "      <th>internet_service_type_No Internet Service</th>\n",
       "      <th>payment_types_Manual</th>\n",
       "    </tr>\n",
       "  </thead>\n",
       "  <tbody>\n",
       "    <tr>\n",
       "      <th>2865</th>\n",
       "      <td>4083-BFNYK</td>\n",
       "      <td>Female</td>\n",
       "      <td>1</td>\n",
       "      <td>Yes</td>\n",
       "      <td>No</td>\n",
       "      <td>38</td>\n",
       "      <td>Yes</td>\n",
       "      <td>Yes</td>\n",
       "      <td>Yes</td>\n",
       "      <td>Yes</td>\n",
       "      <td>...</td>\n",
       "      <td>0</td>\n",
       "      <td>0</td>\n",
       "      <td>0</td>\n",
       "      <td>0</td>\n",
       "      <td>1</td>\n",
       "      <td>1</td>\n",
       "      <td>0</td>\n",
       "      <td>1</td>\n",
       "      <td>0</td>\n",
       "      <td>0</td>\n",
       "    </tr>\n",
       "    <tr>\n",
       "      <th>4107</th>\n",
       "      <td>5804-LEPIM</td>\n",
       "      <td>Female</td>\n",
       "      <td>1</td>\n",
       "      <td>No</td>\n",
       "      <td>No</td>\n",
       "      <td>2</td>\n",
       "      <td>Yes</td>\n",
       "      <td>No</td>\n",
       "      <td>No</td>\n",
       "      <td>No</td>\n",
       "      <td>...</td>\n",
       "      <td>0</td>\n",
       "      <td>0</td>\n",
       "      <td>0</td>\n",
       "      <td>0</td>\n",
       "      <td>0</td>\n",
       "      <td>0</td>\n",
       "      <td>0</td>\n",
       "      <td>1</td>\n",
       "      <td>0</td>\n",
       "      <td>1</td>\n",
       "    </tr>\n",
       "    <tr>\n",
       "      <th>3453</th>\n",
       "      <td>4895-TMWIR</td>\n",
       "      <td>Male</td>\n",
       "      <td>1</td>\n",
       "      <td>Yes</td>\n",
       "      <td>No</td>\n",
       "      <td>11</td>\n",
       "      <td>Yes</td>\n",
       "      <td>No</td>\n",
       "      <td>No internet service</td>\n",
       "      <td>No internet service</td>\n",
       "      <td>...</td>\n",
       "      <td>0</td>\n",
       "      <td>1</td>\n",
       "      <td>0</td>\n",
       "      <td>1</td>\n",
       "      <td>0</td>\n",
       "      <td>0</td>\n",
       "      <td>0</td>\n",
       "      <td>0</td>\n",
       "      <td>1</td>\n",
       "      <td>1</td>\n",
       "    </tr>\n",
       "    <tr>\n",
       "      <th>923</th>\n",
       "      <td>1342-JPNKI</td>\n",
       "      <td>Male</td>\n",
       "      <td>0</td>\n",
       "      <td>No</td>\n",
       "      <td>No</td>\n",
       "      <td>10</td>\n",
       "      <td>Yes</td>\n",
       "      <td>Yes</td>\n",
       "      <td>No</td>\n",
       "      <td>No</td>\n",
       "      <td>...</td>\n",
       "      <td>0</td>\n",
       "      <td>0</td>\n",
       "      <td>1</td>\n",
       "      <td>0</td>\n",
       "      <td>0</td>\n",
       "      <td>0</td>\n",
       "      <td>0</td>\n",
       "      <td>1</td>\n",
       "      <td>0</td>\n",
       "      <td>0</td>\n",
       "    </tr>\n",
       "    <tr>\n",
       "      <th>2370</th>\n",
       "      <td>3397-AVTKU</td>\n",
       "      <td>Male</td>\n",
       "      <td>0</td>\n",
       "      <td>No</td>\n",
       "      <td>No</td>\n",
       "      <td>43</td>\n",
       "      <td>Yes</td>\n",
       "      <td>No</td>\n",
       "      <td>No</td>\n",
       "      <td>Yes</td>\n",
       "      <td>...</td>\n",
       "      <td>0</td>\n",
       "      <td>0</td>\n",
       "      <td>0</td>\n",
       "      <td>0</td>\n",
       "      <td>1</td>\n",
       "      <td>0</td>\n",
       "      <td>1</td>\n",
       "      <td>0</td>\n",
       "      <td>0</td>\n",
       "      <td>1</td>\n",
       "    </tr>\n",
       "  </tbody>\n",
       "</table>\n",
       "<p>5 rows × 46 columns</p>\n",
       "</div>"
      ],
      "text/plain": [
       "     customer_id  gender  senior_citizen partner dependents  tenure  \\\n",
       "2865  4083-BFNYK  Female               1     Yes         No      38   \n",
       "4107  5804-LEPIM  Female               1      No         No       2   \n",
       "3453  4895-TMWIR    Male               1     Yes         No      11   \n",
       "923   1342-JPNKI    Male               0      No         No      10   \n",
       "2370  3397-AVTKU    Male               0      No         No      43   \n",
       "\n",
       "     phone_service multiple_lines      online_security        online_backup  \\\n",
       "2865           Yes            Yes                  Yes                  Yes   \n",
       "4107           Yes             No                   No                   No   \n",
       "3453           Yes             No  No internet service  No internet service   \n",
       "923            Yes            Yes                   No                   No   \n",
       "2370           Yes             No                   No                  Yes   \n",
       "\n",
       "      ... tech_support_Yes streaming_tv_No internet service streaming_tv_Yes  \\\n",
       "2865  ...                0                                0                0   \n",
       "4107  ...                0                                0                0   \n",
       "3453  ...                0                                1                0   \n",
       "923   ...                0                                0                1   \n",
       "2370  ...                0                                0                0   \n",
       "\n",
       "     streaming_movies_No internet service streaming_movies_Yes  \\\n",
       "2865                                    0                    1   \n",
       "4107                                    0                    0   \n",
       "3453                                    1                    0   \n",
       "923                                     0                    0   \n",
       "2370                                    0                    1   \n",
       "\n",
       "      contract_type_One year  contract_type_Two year  \\\n",
       "2865                       1                       0   \n",
       "4107                       0                       0   \n",
       "3453                       0                       0   \n",
       "923                        0                       0   \n",
       "2370                       0                       1   \n",
       "\n",
       "     internet_service_type_Fiber optic  \\\n",
       "2865                                 1   \n",
       "4107                                 1   \n",
       "3453                                 0   \n",
       "923                                  1   \n",
       "2370                                 0   \n",
       "\n",
       "     internet_service_type_No Internet Service payment_types_Manual  \n",
       "2865                                         0                    0  \n",
       "4107                                         0                    1  \n",
       "3453                                         1                    1  \n",
       "923                                          0                    0  \n",
       "2370                                         0                    1  \n",
       "\n",
       "[5 rows x 46 columns]"
      ]
     },
     "execution_count": 53,
     "metadata": {},
     "output_type": "execute_result"
    }
   ],
   "source": [
    "train.head()"
   ]
  },
  {
   "cell_type": "code",
   "execution_count": 54,
   "id": "5aa86a45",
   "metadata": {},
   "outputs": [
    {
     "name": "stdout",
     "output_type": "stream",
     "text": [
      "(4225, 46)\n",
      "(1409, 46)\n",
      "(1409, 46)\n"
     ]
    }
   ],
   "source": [
    "print(train.shape)\n",
    "print(validate.shape)\n",
    "print(test.shape)"
   ]
  },
  {
   "cell_type": "markdown",
   "id": "f128f5f2",
   "metadata": {},
   "source": [
    "## Explore"
   ]
  },
  {
   "cell_type": "markdown",
   "id": "ebb960c8",
   "metadata": {},
   "source": [
    "**Visualizing our target variable**\n",
    "- 1121 of the 4225 customers from our training data have churned\n",
    "- ~27% overall churn rate"
   ]
  },
  {
   "cell_type": "code",
   "execution_count": 55,
   "id": "4951849f",
   "metadata": {},
   "outputs": [
    {
     "name": "stdout",
     "output_type": "stream",
     "text": [
      "churn\n",
      "No     3104\n",
      "Yes    1121\n",
      "Name: count, dtype: int64\n",
      "churn\n",
      "No     0.734675\n",
      "Yes    0.265325\n",
      "Name: proportion, dtype: float64\n"
     ]
    },
    {
     "data": {
      "image/png": "[encoded data removed]",
      "text/plain": [
       "<Figure size 640x480 with 1 Axes>"
      ]
     },
     "metadata": {},
     "output_type": "display_data"
    }
   ],
   "source": [
    "print(train.churn.value_counts())#printing churn value counts\n",
    "print(train.churn.value_counts(normalize=True)) #printing churn value counts as a percentage\n",
    "sns.countplot(data=train, x='churn'); #plotting churn value counts"
   ]
  },
  {
   "cell_type": "markdown",
   "id": "47ed24ed",
   "metadata": {},
   "source": [
    "**Q1: Does contract type affect whether or not someone churns?**"
   ]
  },
  {
   "cell_type": "markdown",
   "id": "f0cb3bd1",
   "metadata": {},
   "source": [
    "**Hypothesis**"
   ]
  },
  {
   "cell_type": "markdown",
   "id": "ad51806c",
   "metadata": {},
   "source": [
    "$H_o$: There is NO relationship between contract and a customer churning.\n",
    "\n",
    "$H_a$: There is a relationship between contract and a customer churning."
   ]
  },
  {
   "cell_type": "code",
   "execution_count": 56,
   "id": "c20f33bd",
   "metadata": {},
   "outputs": [],
   "source": [
    "#setting confidence level\n",
    "alpha=0.05"
   ]
  },
  {
   "cell_type": "markdown",
   "id": "ccd3195d",
   "metadata": {},
   "source": [
    "**Visualize**"
   ]
  },
  {
   "cell_type": "code",
   "execution_count": 57,
   "id": "a771f7b9",
   "metadata": {},
   "outputs": [
    {
     "data": {
      "image/png": "[encoded data removed]",
      "text/plain": [
       "<Figure size 640x480 with 1 Axes>"
      ]
     },
     "metadata": {},
     "output_type": "display_data"
    }
   ],
   "source": [
    "#countplot showing distribution of contract types comparing churn levels\n",
    "sns.countplot(x=\"contract_type\", hue=\"churn\", data=train);"
   ]
  },
  {
   "cell_type": "markdown",
   "id": "ca823fab",
   "metadata": {},
   "source": [
    ">Visually, it looks like an overwhelming majority of customers with month to month contracts are churning compared to one or two year contracts."
   ]
  },
  {
   "cell_type": "code",
   "execution_count": 58,
   "id": "c1a89836",
   "metadata": {},
   "outputs": [],
   "source": [
    "#creating a contingency table of observed values from the contract type and churn columns.\n",
    "observed = pd.crosstab(train.churn, train.contract_type)"
   ]
  },
  {
   "cell_type": "markdown",
   "id": "fdc93d67",
   "metadata": {},
   "source": [
    ">We will use a chi2 test because we are comparing two categorial variables and want to test for independence."
   ]
  },
  {
   "cell_type": "code",
   "execution_count": 59,
   "id": "2c1df53f",
   "metadata": {},
   "outputs": [
    {
     "name": "stdout",
     "output_type": "stream",
     "text": [
      "Expected DataFrame\n",
      "contract_type  Month-to-month  One year  Two year\n",
      "churn                                            \n",
      "No                       1715       645       742\n",
      "Yes                       619       233       268\n",
      "\n",
      "\n",
      "Observed DataFrame\n",
      "contract_type  Month-to-month  One year  Two year\n",
      "churn                                            \n",
      "No                       1338       785       981\n",
      "Yes                       997        94        30\n",
      "chi^2 = 714.1745\n",
      "p     = 0.0000\n",
      "---\n",
      "\n",
      "p is less than alpha so we reject the null hypothesis\n"
     ]
    }
   ],
   "source": [
    "#function from explore file that prints chi^2 results in a dataframe \n",
    "#and if we will reject or fail to reject null hypothesis\n",
    "e.chi2_results(observed)"
   ]
  },
  {
   "cell_type": "markdown",
   "id": "00cc4776",
   "metadata": {},
   "source": [
    "**Summarize**"
   ]
  },
  {
   "cell_type": "markdown",
   "id": "d9cd9e84",
   "metadata": {},
   "source": [
    "We can conclude that contract type does affect whether or not someone churns and it appears to be much higher with month to month contracts compared to one or two year contracts."
   ]
  },
  {
   "cell_type": "markdown",
   "id": "d1ba9c8b",
   "metadata": {},
   "source": [
    "**Q2: Are high monthly charges causing customers to churn?**\n",
    "\n",
    "High monthly charges is defined as being higher than average monthly charges."
   ]
  },
  {
   "cell_type": "markdown",
   "id": "028d4d53",
   "metadata": {},
   "source": [
    "**Hypothesis**"
   ]
  },
  {
   "cell_type": "markdown",
   "id": "3c1f1c46",
   "metadata": {},
   "source": [
    "$H_o$: Monthly charges of churned customers is less than or equal to the monthly charges of all customers.\n",
    "\n",
    "$H_a$: Monthly charges of churned customers is higher than the monthly charges of all customers."
   ]
  },
  {
   "cell_type": "code",
   "execution_count": 60,
   "id": "e024b525",
   "metadata": {},
   "outputs": [],
   "source": [
    "#setting confidence level\n",
    "alpha = 0.05"
   ]
  },
  {
   "cell_type": "markdown",
   "id": "88c71998",
   "metadata": {},
   "source": [
    "**Visualize**"
   ]
  },
  {
   "cell_type": "markdown",
   "id": "bb7202f9",
   "metadata": {},
   "source": [
    "Creating some variables to use for my visuals"
   ]
  },
  {
   "cell_type": "code",
   "execution_count": 61,
   "id": "eddce6c1",
   "metadata": {},
   "outputs": [],
   "source": [
    "#creating variable for average monthly charges\n",
    "avg_monthly_charges = train['monthly_charges'].mean()\n",
    "#creating variable for high monthly charges\n",
    "high_monthly_charges = train.churn[train['monthly_charges'] > avg_monthly_charges]\n",
    "#creating variable for low monthly charges\n",
    "low_monthly_charges = train.churn[train['monthly_charges'] < avg_monthly_charges]"
   ]
  },
  {
   "cell_type": "code",
   "execution_count": 62,
   "id": "63d03440",
   "metadata": {},
   "outputs": [
    {
     "data": {
      "image/png": "[encoded data removed]",
      "text/plain": [
       "<Figure size 1200x1000 with 2 Axes>"
      ]
     },
     "metadata": {},
     "output_type": "display_data"
    }
   ],
   "source": [
    "#Creating subplots to compare high vs low monthly payment customers who churn\n",
    "plt.figure(figsize=(12, 10))\n",
    "plt.suptitle('High vs Low monthly payment Churn')\n",
    "#creating high paying customer plot\n",
    "plt.subplot(221)\n",
    "sns.countplot(x=high_monthly_charges, hue=\"churn\", data=train);\n",
    "plt.title('High Paying Customer Churn')\n",
    "#creating low paying customer plot\n",
    "plt.subplot(222)\n",
    "sns.countplot(x=low_monthly_charges, hue=\"churn\", data=train);\n",
    "plt.title('Low Paying Customer Churn');"
   ]
  },
  {
   "cell_type": "markdown",
   "id": "61a1bd15",
   "metadata": {},
   "source": [
    "- nearly 35% of customers churn with higher than average monthly payments \n",
    "\n",
    "- only 16% of customers churn with lower than average payments"
   ]
  },
  {
   "cell_type": "markdown",
   "id": "9b7c7f21",
   "metadata": {},
   "source": [
    "**Analyze**"
   ]
  },
  {
   "cell_type": "markdown",
   "id": "44f06059",
   "metadata": {},
   "source": [
    "Comparing categorical (churned:True or False) vs continuous variable (monthly charges) so\n",
    "we will use a one sample ttest. We're asking if customers with higher monthly charges churn more than average customers, which in this case represents our population.\n",
    "So we will use a one sample, one tailed ttest"
   ]
  },
  {
   "cell_type": "markdown",
   "id": "a11337bc",
   "metadata": {},
   "source": [
    "Our churn sample is large enough, as is overall count, to meet the assumptions of normal distributions."
   ]
  },
  {
   "cell_type": "code",
   "execution_count": 63,
   "id": "109b877b",
   "metadata": {},
   "outputs": [
    {
     "name": "stdout",
     "output_type": "stream",
     "text": [
      "t = 12.630413381380539, p/2 = 1.3802827205112413e-34, alpha = 0.05\n"
     ]
    }
   ],
   "source": [
    "#setting a variable of monthly charges of customers who churned\n",
    "mc_churn = train [train.churn == 'Yes'].monthly_charges\n",
    "\n",
    "#setting a variable of the mean of monthly charges\n",
    "monthly_charges_mean = train.monthly_charges.mean()\n",
    "\n",
    "t, p = stats.ttest_1samp(mc_churn, monthly_charges_mean)\n",
    "\n",
    "print(f't = {t}, p/2 = {p/2}, alpha = {alpha}')"
   ]
  },
  {
   "cell_type": "code",
   "execution_count": 64,
   "id": "82752235",
   "metadata": {},
   "outputs": [
    {
     "name": "stdout",
     "output_type": "stream",
     "text": [
      "We reject the null hypothesis.\n"
     ]
    }
   ],
   "source": [
    "if p/2 > alpha:\n",
    "    print(\"We fail to reject the null hypothesis.\")\n",
    "elif t < 0:\n",
    "    print(\"We fail to reject null hypothesis.\")\n",
    "else:\n",
    "    print(\"We reject the null hypothesis.\")"
   ]
  },
  {
   "cell_type": "markdown",
   "id": "773694f9",
   "metadata": {},
   "source": [
    "**Summarize**"
   ]
  },
  {
   "cell_type": "markdown",
   "id": "5edc34e0",
   "metadata": {},
   "source": [
    "We confirmed that there is a relationship between monthly charges and churning. It appears that a customer having higher than average monthly charges may cause a customer to churn more often than customers with lower than average monthly charges."
   ]
  },
  {
   "cell_type": "markdown",
   "id": "0c9a2447",
   "metadata": {},
   "source": [
    "**Q3: Is a customer having fiber optic internet related to a customer churning?**"
   ]
  },
  {
   "cell_type": "markdown",
   "id": "6cbb357c",
   "metadata": {},
   "source": [
    "**Hypothesis**"
   ]
  },
  {
   "cell_type": "markdown",
   "id": "d5ec332b",
   "metadata": {},
   "source": [
    "$H_o$: There is NO association between a customer having fiber optic internet and them churning.\n",
    " \n",
    "$H_a$: There IS an association between a customer having fiber optic internet and them churning."
   ]
  },
  {
   "cell_type": "code",
   "execution_count": 65,
   "id": "ce2f5035",
   "metadata": {},
   "outputs": [],
   "source": [
    "#setting confidence level\n",
    "alpha = 0.05"
   ]
  },
  {
   "cell_type": "markdown",
   "id": "9819113c",
   "metadata": {},
   "source": [
    "**Visualize**"
   ]
  },
  {
   "cell_type": "code",
   "execution_count": 66,
   "id": "79f068be",
   "metadata": {},
   "outputs": [
    {
     "data": {
      "image/png": "[encoded data removed]",
      "text/plain": [
       "<Figure size 640x480 with 1 Axes>"
      ]
     },
     "metadata": {},
     "output_type": "display_data"
    }
   ],
   "source": [
    "#plot showing distribution of internet service types which show fiber optic with a much higher churn rate than DSL.\n",
    "sns.countplot(x=\"internet_service_type\", hue=\"churn\", data=train);"
   ]
  },
  {
   "cell_type": "code",
   "execution_count": 67,
   "id": "42baca88",
   "metadata": {},
   "outputs": [
    {
     "data": {
      "text/plain": [
       "churn\n",
       "No     0.587987\n",
       "Yes    0.412013\n",
       "Name: proportion, dtype: float64"
      ]
     },
     "execution_count": 67,
     "metadata": {},
     "output_type": "execute_result"
    }
   ],
   "source": [
    "#41% of customers with Fiber optic internet are churning\n",
    "train.churn[train['internet_service_type_Fiber optic'] == 1].value_counts(normalize=True)"
   ]
  },
  {
   "cell_type": "markdown",
   "id": "e2226591",
   "metadata": {},
   "source": [
    "**Analyze**"
   ]
  },
  {
   "cell_type": "markdown",
   "id": "ee26a70a",
   "metadata": {},
   "source": [
    "We will use a chi2 test because we are comparing two categorial variables and want to test for independence."
   ]
  },
  {
   "cell_type": "code",
   "execution_count": 68,
   "id": "d45144a6",
   "metadata": {},
   "outputs": [],
   "source": [
    "#creating a contingency table of observed values from the fiber optic internet and churn columns.\n",
    "observed = pd.crosstab(train.churn, train['internet_service_type_Fiber optic'])"
   ]
  },
  {
   "cell_type": "code",
   "execution_count": 69,
   "id": "cbd45b6e",
   "metadata": {},
   "outputs": [
    {
     "name": "stdout",
     "output_type": "stream",
     "text": [
      "Expected DataFrame\n",
      "internet_service_type_Fiber optic     0     1\n",
      "churn                                        \n",
      "No                                 1709  1394\n",
      "Yes                                 617   503\n",
      "\n",
      "\n",
      "Observed DataFrame\n",
      "internet_service_type_Fiber optic     0     1\n",
      "churn                                        \n",
      "No                                 1988  1116\n",
      "Yes                                 339   782\n",
      "chi^2 = 379.0319\n",
      "p     = 0.0000\n",
      "---\n",
      "\n",
      "p is less than alpha so we reject the null hypothesis\n"
     ]
    }
   ],
   "source": [
    "#function from explore file that prints chi^2 results in a dataframe \n",
    "#and if we will reject or fail to reject null hypothesis\n",
    "e.chi2_results(observed)"
   ]
  },
  {
   "cell_type": "markdown",
   "id": "fd105958",
   "metadata": {},
   "source": [
    "**Summarize**"
   ]
  },
  {
   "cell_type": "markdown",
   "id": "18b61aa5",
   "metadata": {},
   "source": [
    "There IS an association between a customer having fiber optic internet and them churning."
   ]
  },
  {
   "cell_type": "markdown",
   "id": "dc50afd2",
   "metadata": {},
   "source": [
    "**Q4: Is a customer having manual payments related to a customer churning?**"
   ]
  },
  {
   "cell_type": "markdown",
   "id": "5f4bd4f2",
   "metadata": {},
   "source": [
    "**Hypothesis**"
   ]
  },
  {
   "cell_type": "markdown",
   "id": "4102ec0b",
   "metadata": {},
   "source": [
    "$H_o$: There is NO association between a payment types and the customer churning.\n",
    " \n",
    "$H_a$: There IS an association between a payment types and the customer churning."
   ]
  },
  {
   "cell_type": "code",
   "execution_count": 70,
   "id": "9ebd6557",
   "metadata": {},
   "outputs": [],
   "source": [
    "#setting confidence level\n",
    "alpha=0.05"
   ]
  },
  {
   "cell_type": "markdown",
   "id": "39b02f70",
   "metadata": {},
   "source": [
    "**Visualize**"
   ]
  },
  {
   "cell_type": "code",
   "execution_count": 71,
   "id": "e09272e2",
   "metadata": {},
   "outputs": [
    {
     "data": {
      "image/png": "[encoded data removed]",
      "text/plain": [
       "<Figure size 640x480 with 1 Axes>"
      ]
     },
     "metadata": {},
     "output_type": "display_data"
    }
   ],
   "source": [
    "#plot showing distribution of payment types which show manual payments with a much higher \n",
    "#churn rate than automatic payments.\n",
    "sns.countplot(x=\"payment_types_Manual\", hue=\"churn\", data=train);"
   ]
  },
  {
   "cell_type": "code",
   "execution_count": 72,
   "id": "1cd37493",
   "metadata": {},
   "outputs": [
    {
     "data": {
      "text/plain": [
       "churn\n",
       "No     0.65133\n",
       "Yes    0.34867\n",
       "Name: proportion, dtype: float64"
      ]
     },
     "execution_count": 72,
     "metadata": {},
     "output_type": "execute_result"
    }
   ],
   "source": [
    "#checking percentages for manual payment types comparing churned or not\n",
    "train.churn[train['payment_types_Manual'] == 1].value_counts(normalize=True)"
   ]
  },
  {
   "cell_type": "code",
   "execution_count": 73,
   "id": "5cd3707a",
   "metadata": {},
   "outputs": [
    {
     "data": {
      "text/plain": [
       "churn\n",
       "No     0.841056\n",
       "Yes    0.158944\n",
       "Name: proportion, dtype: float64"
      ]
     },
     "execution_count": 73,
     "metadata": {},
     "output_type": "execute_result"
    }
   ],
   "source": [
    "#checking percentages for automatic payment types comparing churned or not\n",
    "train.churn[train['payment_types_Manual'] == 0].value_counts(normalize=True)"
   ]
  },
  {
   "cell_type": "markdown",
   "id": "ac1552cb",
   "metadata": {},
   "source": [
    "Around 35% or customers with manual payment type churn compred to 16% of customers with automatic payment type."
   ]
  },
  {
   "cell_type": "markdown",
   "id": "461274a3",
   "metadata": {},
   "source": [
    "**Analyze**"
   ]
  },
  {
   "cell_type": "markdown",
   "id": "c2dd89f9",
   "metadata": {},
   "source": [
    "We will use a chi2 test because we are comparing two categorial variables and want to test for independence."
   ]
  },
  {
   "cell_type": "code",
   "execution_count": 74,
   "id": "b477a5f4",
   "metadata": {},
   "outputs": [],
   "source": [
    "#creating a contingency table of observed values from the payment types and churn columns.\n",
    "observed = pd.crosstab(train.churn, train['payment_types_Manual'])"
   ]
  },
  {
   "cell_type": "code",
   "execution_count": 75,
   "id": "c2612a15",
   "metadata": {},
   "outputs": [
    {
     "name": "stdout",
     "output_type": "stream",
     "text": [
      "Expected DataFrame\n",
      "payment_types_Manual     0     1\n",
      "churn                           \n",
      "No                    1363  1740\n",
      "Yes                    492   628\n",
      "\n",
      "\n",
      "Observed DataFrame\n",
      "payment_types_Manual     0     1\n",
      "churn                           \n",
      "No                    1561  1543\n",
      "Yes                    295   826\n",
      "chi^2 = 191.2033\n",
      "p     = 0.0000\n",
      "---\n",
      "\n",
      "p is less than alpha so we reject the null hypothesis\n"
     ]
    }
   ],
   "source": [
    "#function from explore file that prints chi^2 results in a dataframe \n",
    "#and if we will reject or fail to reject null hypothesis\n",
    "e.chi2_results(observed)"
   ]
  },
  {
   "cell_type": "markdown",
   "id": "16150669",
   "metadata": {},
   "source": [
    "**Summarize**"
   ]
  },
  {
   "cell_type": "markdown",
   "id": "da27384f",
   "metadata": {},
   "source": [
    "We can conclude that a customer having manual payment type is more likely to churn than a customer with automatic payments."
   ]
  },
  {
   "cell_type": "markdown",
   "id": "c8985cd5",
   "metadata": {},
   "source": [
    "## Modeling"
   ]
  },
  {
   "cell_type": "code",
   "execution_count": 76,
   "id": "12c7c041",
   "metadata": {},
   "outputs": [],
   "source": [
    "#creating variable of a list of variables that I will be using for modeling that will \n",
    "#help with the 4 questions asked.\n",
    "for_model = ['monthly_charges', 'contract_type_One year', 'contract_type_Two year',\n",
    "       'internet_service_type_Fiber optic',\n",
    "       'internet_service_type_No Internet Service',\n",
    "       'payment_types_Manual']"
   ]
  },
  {
   "cell_type": "code",
   "execution_count": 77,
   "id": "aeeff489",
   "metadata": {},
   "outputs": [],
   "source": [
    "#setting data for models for train, validate, and test\n",
    "X_train = train[for_model]\n",
    "X_validate = validate[for_model]\n",
    "X_test = test[for_model]"
   ]
  },
  {
   "cell_type": "code",
   "execution_count": 78,
   "id": "b7c88bda",
   "metadata": {},
   "outputs": [],
   "source": [
    "#setting target variable for models for train, validate, and test\n",
    "y_train = train.churn\n",
    "y_validate = validate.churn\n",
    "y_test = test.churn"
   ]
  },
  {
   "cell_type": "markdown",
   "id": "f21e54c1",
   "metadata": {},
   "source": [
    ">Getting my baseline"
   ]
  },
  {
   "cell_type": "code",
   "execution_count": 79,
   "id": "00b09ffe",
   "metadata": {},
   "outputs": [
    {
     "name": "stdout",
     "output_type": "stream",
     "text": [
      "mode = 0    No\n",
      "Name: churn, dtype: object\n"
     ]
    }
   ],
   "source": [
    "print(f'mode = {train.churn.mode()}')"
   ]
  },
  {
   "cell_type": "code",
   "execution_count": 80,
   "id": "da77b18e",
   "metadata": {},
   "outputs": [
    {
     "data": {
      "text/plain": [
       "0.7346745562130178"
      ]
     },
     "execution_count": 80,
     "metadata": {},
     "output_type": "execute_result"
    }
   ],
   "source": [
    "(train.churn == 'No').mean()"
   ]
  },
  {
   "cell_type": "markdown",
   "id": "f0e7c9ba",
   "metadata": {},
   "source": [
    "My baseline prediction is 'No' (not churned) which is what would happen if we predicted not churned every time and the accuracy is 73%"
   ]
  },
  {
   "cell_type": "markdown",
   "id": "80937577",
   "metadata": {},
   "source": [
    "**Decision Tree**"
   ]
  },
  {
   "cell_type": "code",
   "execution_count": 81,
   "id": "b3af857b",
   "metadata": {},
   "outputs": [],
   "source": [
    "#creating the object based on max depth that produces highest accuracy for validate.\n",
    "tree = DecisionTreeClassifier(max_depth=9)\n",
    "#fitting the model\n",
    "tree.fit(X_train, y_train)\n",
    "#making predictions\n",
    "y_pred = tree.predict(X_train)\n",
    "#function to estimate the probability of each outcome, using the training data\n",
    "y_pred_proba = tree.predict_proba(X_train)"
   ]
  },
  {
   "cell_type": "code",
   "execution_count": 82,
   "id": "6c9b5d41",
   "metadata": {},
   "outputs": [
    {
     "name": "stdout",
     "output_type": "stream",
     "text": [
      "              precision    recall  f1-score   support\n",
      "\n",
      "          No       0.86      0.87      0.86      3104\n",
      "         Yes       0.62      0.60      0.61      1121\n",
      "\n",
      "    accuracy                           0.80      4225\n",
      "   macro avg       0.74      0.73      0.74      4225\n",
      "weighted avg       0.80      0.80      0.80      4225\n",
      "\n",
      "TP = 669\n",
      "TN = 2702\n",
      "FP = 402\n",
      "FN = 452\n",
      " \n",
      "Total = 4225\n",
      " \n",
      "Accuracy = 0.7978698224852071\n",
      "Precision= 0.6246498599439776\n",
      "f1=0.6104014598540146\n",
      " \n",
      "Support (Yes)= 1121\n",
      "Support (No)= 3104\n",
      " \n",
      "True Positive Rate=0.5967885816235504\n",
      "False Positive Rate=0.12951030927835053\n",
      "True Negative Rate=0.8704896907216495\n",
      "False Negative Rate=0.4032114183764496\n"
     ]
    }
   ],
   "source": [
    "#function from explore file that takes in y_train, y_pred and prints useful information for the model.\n",
    "\n",
    "e.model_strength(y_train, y_pred)"
   ]
  },
  {
   "cell_type": "code",
   "execution_count": 83,
   "id": "d45f9cee",
   "metadata": {},
   "outputs": [
    {
     "name": "stdout",
     "output_type": "stream",
     "text": [
      "Accuracy of Decision Tree classifier on training set: 0.80\n",
      "Accuracy of Decision Tree classifier on validate set: 0.77\n"
     ]
    }
   ],
   "source": [
    "#printing accuracy of decision tree on training and validate set\n",
    "print('Accuracy of Decision Tree classifier on training set: {:.2f}'\n",
    "      .format(tree.score(X_train, y_train)))\n",
    "print('Accuracy of Decision Tree classifier on validate set: {:.2f}'\n",
    "     .format(tree.score(X_validate, y_validate)))"
   ]
  },
  {
   "cell_type": "code",
   "execution_count": 85,
   "id": "141e0066",
   "metadata": {},
   "outputs": [],
   "source": [
    "#function to create dataframe from decision tree various max depths to visualize score changes\n",
    "\n",
    "stats = []\n",
    "for x in range(1,12):\n",
    "    #create the object\n",
    "    tree = DecisionTreeClassifier(max_depth=x)\n",
    "    #fit the object\n",
    "    tree.fit(X_train, y_train)  \n",
    "    #calculate the accuracy of train and validate\n",
    "    acc = tree.score(X_train, y_train)\n",
    "    val_acc = tree.score(X_validate, y_validate)\n",
    "    stats.append([x, round(acc,2),round(val_acc,2) ])\n",
    "#creating dataframe\n",
    "stats_df = pd.DataFrame(stats, columns =['max_depth','train_acc','val_acc'])"
   ]
  },
  {
   "cell_type": "code",
   "execution_count": 86,
   "id": "5fb1ebf5",
   "metadata": {},
   "outputs": [
    {
     "data": {
      "image/png": "[encoded data removed]",
      "text/plain": [
       "<Figure size 1200x600 with 1 Axes>"
      ]
     },
     "metadata": {},
     "output_type": "display_data"
    }
   ],
   "source": [
    "#plotting dataframe created above\n",
    "plt.figure(figsize=(12,6))\n",
    "plt.plot(stats_df.max_depth, stats_df.train_acc, label='train', marker='o')\n",
    "plt.plot(stats_df.max_depth, stats_df.val_acc, label='validate', marker='o')\n",
    "plt.xlabel('Max Depth')\n",
    "plt.ylabel('Accuracy')\n",
    "plt.title('Decision Tree accuracy change across a range of max depth on train and validate')\n",
    "plt.legend()\n",
    "plt.show()"
   ]
  },
  {
   "cell_type": "markdown",
   "id": "0f0bf7fb",
   "metadata": {},
   "source": [
    "We can see validate reaches 0.77 whil train is at 0.8 at max depth of 9 and then validate falls after reaching 10."
   ]
  },
  {
   "cell_type": "markdown",
   "id": "c36b6a65",
   "metadata": {},
   "source": [
    "This shows that my best decision tree model is the one with max depth of 9."
   ]
  },
  {
   "cell_type": "markdown",
   "id": "96f8086a",
   "metadata": {},
   "source": [
    "**Random Forest**"
   ]
  },
  {
   "cell_type": "code",
   "execution_count": 87,
   "id": "8c98b15a",
   "metadata": {},
   "outputs": [],
   "source": [
    "#creating the object for a random forest classifier\n",
    "rf = RandomForestClassifier(min_samples_leaf=4, max_depth=7, random_state=123)\n",
    "#fitting the model\n",
    "rf.fit(X_train, y_train)\n",
    "#making predictions\n",
    "y_pred = rf.predict(X_train)"
   ]
  },
  {
   "cell_type": "code",
   "execution_count": 88,
   "id": "10d01bc9",
   "metadata": {},
   "outputs": [
    {
     "name": "stdout",
     "output_type": "stream",
     "text": [
      "              precision    recall  f1-score   support\n",
      "\n",
      "          No       0.84      0.88      0.86      3104\n",
      "         Yes       0.62      0.53      0.57      1121\n",
      "\n",
      "    accuracy                           0.79      4225\n",
      "   macro avg       0.73      0.70      0.71      4225\n",
      "weighted avg       0.78      0.79      0.78      4225\n",
      "\n",
      "TP = 590\n",
      "TN = 2738\n",
      "FP = 366\n",
      "FN = 531\n",
      " \n",
      "Total = 4225\n",
      " \n",
      "Accuracy = 0.7876923076923077\n",
      "Precision= 0.6171548117154811\n",
      "f1=0.5681271064034664\n",
      " \n",
      "Support (Yes)= 1121\n",
      "Support (No)= 3104\n",
      " \n",
      "True Positive Rate=0.5263157894736842\n",
      "False Positive Rate=0.11791237113402062\n",
      "True Negative Rate=0.8820876288659794\n",
      "False Negative Rate=0.47368421052631576\n"
     ]
    }
   ],
   "source": [
    "#function from explore file that takes in y_train, y_pred and prints useful information for the model.\n",
    "e.model_strength(y_train, y_pred)"
   ]
  },
  {
   "cell_type": "code",
   "execution_count": 89,
   "id": "f66cbc49",
   "metadata": {},
   "outputs": [
    {
     "name": "stdout",
     "output_type": "stream",
     "text": [
      "Accuracy of Random Forest classifier on training set: 0.79\n",
      "Accuracy of Random Forest classifier on validate set: 0.77\n"
     ]
    }
   ],
   "source": [
    "#printing accuracy of random forest on training and validate set\n",
    "print('Accuracy of Random Forest classifier on training set: {:.2f}'\n",
    "      .format(rf.score(X_train, y_train)))\n",
    "print('Accuracy of Random Forest classifier on validate set: {:.2f}'\n",
    "     .format(rf.score(X_validate, y_validate)))"
   ]
  },
  {
   "cell_type": "code",
   "execution_count": 90,
   "id": "638c6569",
   "metadata": {},
   "outputs": [
    {
     "data": {
      "text/html": [
       "<div>\n",
       "<style scoped>\n",
       "    .dataframe tbody tr th:only-of-type {\n",
       "        vertical-align: middle;\n",
       "    }\n",
       "\n",
       "    .dataframe tbody tr th {\n",
       "        vertical-align: top;\n",
       "    }\n",
       "\n",
       "    .dataframe thead th {\n",
       "        text-align: right;\n",
       "    }\n",
       "</style>\n",
       "<table border=\"1\" class=\"dataframe\">\n",
       "  <thead>\n",
       "    <tr style=\"text-align: right;\">\n",
       "      <th></th>\n",
       "      <th>min_leaf</th>\n",
       "      <th>max_depth</th>\n",
       "      <th>train_acc</th>\n",
       "      <th>val_acc</th>\n",
       "    </tr>\n",
       "  </thead>\n",
       "  <tbody>\n",
       "    <tr>\n",
       "      <th>0</th>\n",
       "      <td>1</td>\n",
       "      <td>10</td>\n",
       "      <td>0.82</td>\n",
       "      <td>0.76</td>\n",
       "    </tr>\n",
       "    <tr>\n",
       "      <th>1</th>\n",
       "      <td>2</td>\n",
       "      <td>9</td>\n",
       "      <td>0.80</td>\n",
       "      <td>0.76</td>\n",
       "    </tr>\n",
       "    <tr>\n",
       "      <th>2</th>\n",
       "      <td>3</td>\n",
       "      <td>8</td>\n",
       "      <td>0.79</td>\n",
       "      <td>0.77</td>\n",
       "    </tr>\n",
       "    <tr>\n",
       "      <th>3</th>\n",
       "      <td>4</td>\n",
       "      <td>7</td>\n",
       "      <td>0.79</td>\n",
       "      <td>0.77</td>\n",
       "    </tr>\n",
       "    <tr>\n",
       "      <th>4</th>\n",
       "      <td>5</td>\n",
       "      <td>6</td>\n",
       "      <td>0.78</td>\n",
       "      <td>0.77</td>\n",
       "    </tr>\n",
       "    <tr>\n",
       "      <th>5</th>\n",
       "      <td>6</td>\n",
       "      <td>5</td>\n",
       "      <td>0.78</td>\n",
       "      <td>0.77</td>\n",
       "    </tr>\n",
       "    <tr>\n",
       "      <th>6</th>\n",
       "      <td>7</td>\n",
       "      <td>4</td>\n",
       "      <td>0.78</td>\n",
       "      <td>0.77</td>\n",
       "    </tr>\n",
       "    <tr>\n",
       "      <th>7</th>\n",
       "      <td>8</td>\n",
       "      <td>3</td>\n",
       "      <td>0.76</td>\n",
       "      <td>0.76</td>\n",
       "    </tr>\n",
       "    <tr>\n",
       "      <th>8</th>\n",
       "      <td>9</td>\n",
       "      <td>2</td>\n",
       "      <td>0.73</td>\n",
       "      <td>0.73</td>\n",
       "    </tr>\n",
       "    <tr>\n",
       "      <th>9</th>\n",
       "      <td>10</td>\n",
       "      <td>1</td>\n",
       "      <td>0.73</td>\n",
       "      <td>0.73</td>\n",
       "    </tr>\n",
       "  </tbody>\n",
       "</table>\n",
       "</div>"
      ],
      "text/plain": [
       "   min_leaf  max_depth  train_acc  val_acc\n",
       "0         1         10       0.82     0.76\n",
       "1         2          9       0.80     0.76\n",
       "2         3          8       0.79     0.77\n",
       "3         4          7       0.79     0.77\n",
       "4         5          6       0.78     0.77\n",
       "5         6          5       0.78     0.77\n",
       "6         7          4       0.78     0.77\n",
       "7         8          3       0.76     0.76\n",
       "8         9          2       0.73     0.73\n",
       "9        10          1       0.73     0.73"
      ]
     },
     "execution_count": 90,
     "metadata": {},
     "output_type": "execute_result"
    }
   ],
   "source": [
    "#function to create dataframe from random forest various min leafs and max depths to visualize score changes\n",
    "stats = []\n",
    "for x in range(1,11):\n",
    "    #creating the object for a random forest classifier\n",
    "    rf = RandomForestClassifier(min_samples_leaf=x, max_depth=11-x, random_state=123)\n",
    "    #fitting the model\n",
    "    rf.fit(X_train, y_train)\n",
    "    #making predictions\n",
    "    y_pred = rf.predict(X_train)\n",
    "\n",
    "    acc = rf.score(X_train, y_train)\n",
    "    val_acc = rf.score(X_validate, y_validate)\n",
    "    \n",
    "    stats.append([x, 11-x,round(acc,2),round(val_acc,2) ]) \n",
    "#creating dataframe\n",
    "stats_df = pd.DataFrame(stats, columns =['min_leaf','max_depth','train_acc','val_acc'])\n",
    "stats_df"
   ]
  },
  {
   "cell_type": "code",
   "execution_count": 91,
   "id": "89351cb1",
   "metadata": {},
   "outputs": [
    {
     "data": {
      "image/png": "[encoded data removed]",
      "text/plain": [
       "<Figure size 1200x600 with 1 Axes>"
      ]
     },
     "metadata": {},
     "output_type": "display_data"
    }
   ],
   "source": [
    "#plotting dataframe created above\n",
    "plt.figure(figsize=(12,6))\n",
    "plt.plot(stats_df.max_depth, stats_df.train_acc, label='train', marker='o')\n",
    "plt.plot(stats_df.max_depth, stats_df.val_acc, label='validate', marker='o')\n",
    "\n",
    "plt.xticks([1,2,3,4,5,6,7,8,9,10],\n",
    "            [('1 and 10'),('2 and 9'),('3 and 8'),('4 and 7'),('5 and 6'),\n",
    "            ('6 and 5'),('7 and 4'), ('8 and 3'), ('9 and 2'), ('10 and 1') ] #Adding labels to show min leaf/max depth\n",
    "            )\n",
    "plt.xlabel('Min Leaf Samples and Max Depth ')\n",
    "plt.ylabel('Accuracy')\n",
    "plt.title('Random Forest accuracy change across a range of min leaf, max depth on train and validate')\n",
    "plt.legend()\n",
    "plt.show()"
   ]
  },
  {
   "cell_type": "markdown",
   "id": "4a532e3c",
   "metadata": {},
   "source": [
    "Best Random Forest model is one with 4 min leaf samples and max depth of 7 with train accuracy of 0.79 and validate accuracy of 0.77."
   ]
  },
  {
   "cell_type": "markdown",
   "id": "28ddb9bb",
   "metadata": {},
   "source": [
    "**KNN**"
   ]
  },
  {
   "cell_type": "code",
   "execution_count": 92,
   "id": "e3cc3b40",
   "metadata": {},
   "outputs": [
    {
     "name": "stdout",
     "output_type": "stream",
     "text": [
      "              precision    recall  f1-score   support\n",
      "\n",
      "          No       0.84      0.89      0.86      3104\n",
      "         Yes       0.63      0.52      0.57      1121\n",
      "\n",
      "    accuracy                           0.79      4225\n",
      "   macro avg       0.74      0.71      0.72      4225\n",
      "weighted avg       0.78      0.79      0.79      4225\n",
      "\n",
      "TP = 587\n",
      "TN = 2763\n",
      "FP = 341\n",
      "FN = 534\n",
      " \n",
      "Total = 4225\n",
      " \n",
      "Accuracy = 0.7928994082840237\n",
      "Precision= 0.6325431034482759\n",
      "f1=0.5729624206930211\n",
      " \n",
      "Support (Yes)= 1121\n",
      "Support (No)= 3104\n",
      " \n",
      "True Positive Rate=0.5236396074933095\n",
      "False Positive Rate=0.10985824742268041\n",
      "True Negative Rate=0.8901417525773195\n",
      "False Negative Rate=0.47636039250669043\n"
     ]
    }
   ],
   "source": [
    "#creating and fitting the knn model\n",
    "knn = KNeighborsClassifier(n_neighbors=13, weights='uniform')\n",
    "knn.fit(X_train, y_train)\n",
    "#setting y_pred for knn model\n",
    "y_pred = knn.predict(X_train)\n",
    "#checking knn model strength stats\n",
    "e.model_strength(y_train, y_pred)"
   ]
  },
  {
   "cell_type": "code",
   "execution_count": 93,
   "id": "fede36d2",
   "metadata": {},
   "outputs": [
    {
     "name": "stdout",
     "output_type": "stream",
     "text": [
      "knn training score = 0.79\n",
      "knn validate score = 0.77\n"
     ]
    }
   ],
   "source": [
    "#printing knn model train and validate scores\n",
    "\n",
    "print(f'knn training score = {round(knn.score(X_train, y_train),2)}')\n",
    "print(f'knn validate score = {round(knn.score(X_validate, y_validate),2)}')"
   ]
  },
  {
   "cell_type": "code",
   "execution_count": 94,
   "id": "1f0730b3",
   "metadata": {},
   "outputs": [
    {
     "data": {
      "image/png": "[encoded data removed]",
      "text/plain": [
       "<Figure size 1200x600 with 1 Axes>"
      ]
     },
     "metadata": {},
     "output_type": "display_data"
    }
   ],
   "source": [
    "#plotting KNN accuracy changes for different hyper parameters for train and validate\n",
    "k_range = range(1, 20)\n",
    "train_scores = []\n",
    "validate_scores = []\n",
    "for k in k_range:\n",
    "    knn = KNeighborsClassifier(n_neighbors = k, weights='uniform')\n",
    "    knn.fit(X_train, y_train)\n",
    "    train_scores.append(knn.score(X_train, y_train))\n",
    "    validate_scores.append(knn.score(X_validate, y_validate))\n",
    "plt.figure(figsize=(12,6))\n",
    "plt.xlabel('k')\n",
    "plt.ylabel('accuracy')\n",
    "plt.title('KNN accuracy change with hyper parameter range for train and validate')\n",
    "plt.plot(k_range, train_scores, label='Train')\n",
    "plt.plot(k_range, validate_scores, label='Validate')\n",
    "plt.legend()\n",
    "plt.xticks([0,5,10,15,20])\n",
    "plt.show()"
   ]
  },
  {
   "cell_type": "markdown",
   "id": "7a96d4cb",
   "metadata": {},
   "source": [
    "Now to compare the three best models for decision tree, random forest, and knn based on training and validate scores"
   ]
  },
  {
   "cell_type": "markdown",
   "id": "38fd99cb",
   "metadata": {},
   "source": [
    "**Decision Tree Model**\n",
    "- Accuracy of Decision Tree classifier on training set: 0.80\n",
    "- Accuracy of Decision Tree classifier on validate set: 0.77\n",
    "\n",
    "**Random Forest Model**\n",
    "- Accuracy of Random Forest classifier on training set: 0.79\n",
    "- Accuracy of Random Forest classifier on validate set: 0.77\n",
    "\n",
    "**KNN Model**\n",
    "- Accuracy of KNN classifier on training set: 0.79\n",
    "- Accuracy of KNN classifier on validate set: 0.77"
   ]
  },
  {
   "cell_type": "markdown",
   "id": "3742d5f9",
   "metadata": {},
   "source": [
    "**Test**"
   ]
  },
  {
   "cell_type": "markdown",
   "id": "6fb5470f",
   "metadata": {},
   "source": [
    "My 3 models all had validate scores od 0.77 but I will use Decision Tree as my final model to run on test since it had a higher train score."
   ]
  },
  {
   "cell_type": "code",
   "execution_count": 84,
   "id": "80f71b35",
   "metadata": {},
   "outputs": [
    {
     "name": "stdout",
     "output_type": "stream",
     "text": [
      "Accuracy of Decision Tree classifier on test set: 0.76\n"
     ]
    }
   ],
   "source": [
    "#printing my knn score with test data set\n",
    "print('Accuracy of Decision Tree classifier on test set: {:.2f}'\n",
    "     .format(tree.score(X_test, y_test)))"
   ]
  },
  {
   "cell_type": "markdown",
   "id": "1a93c61a",
   "metadata": {},
   "source": [
    "After running the test data set, the accuracy for the Decision Tree was 76% accuracy. The model's result was 2.5% higher than baseline in predicting churn."
   ]
  },
  {
   "cell_type": "markdown",
   "id": "d7b2ddae",
   "metadata": {},
   "source": [
    "## Recommendations:\n",
    "- Push for customers to sign up for one or two year contract as opposed to month-to-month with either a price incentive or including a free perk such as free tech support or online backup.\n",
    "- Push for DSL internet instead of fiber optic or include a free perk with fiber optic.\n",
    "- Give incentives for signing up for automatic payments instead of manual.\n",
    "\n",
    "## Next Steps:\n",
    "- Dig deeper into the monthly payments to see what point customers are most likely to churn so we can incentivize them to stay prior to that point.\n",
    "- Find out what other factors are leading to the high rate of churn with fiber optic internet customers.\n"
   ]
  },
  {
   "cell_type": "code",
   "execution_count": null,
   "id": "0f23bf3f",
   "metadata": {},
   "outputs": [],
   "source": []
  }
 ],
 "metadata": {
  "kernelspec": {
   "display_name": "Python 3 (ipykernel)",
   "language": "python",
   "name": "python3"
  },
  "language_info": {
   "codemirror_mode": {
    "name": "ipython",
    "version": 3
   },
   "file_extension": ".py",
   "mimetype": "text/x-python",
   "name": "python",
   "nbconvert_exporter": "python",
   "pygments_lexer": "ipython3",
   "version": "3.11.5"
  }
 },
 "nbformat": 4,
 "nbformat_minor": 5
}
